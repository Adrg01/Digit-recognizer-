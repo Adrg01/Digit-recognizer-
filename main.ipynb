{
 "cells": [
  {
   "cell_type": "code",
   "execution_count": 1,
   "metadata": {},
   "outputs": [
    {
     "name": "stdout",
     "output_type": "stream",
     "text": [
      "Using cpu device\n"
     ]
    }
   ],
   "source": [
    "import model_archit\n",
    "\n",
    "\n",
    "import pandas as pd\n",
    "import numpy as np\n",
    "import torch\n",
    "import torch.nn as nn\n",
    "import torch.nn.functional as F\n",
    "# import torchvision\n",
    "from torch.utils.data import Dataset,DataLoader\n",
    "import matplotlib.pyplot as plt\n",
    " "
   ]
  },
  {
   "cell_type": "code",
   "execution_count": 37,
   "metadata": {},
   "outputs": [],
   "source": [
    "class dataset(Dataset):\n",
    "    def __init__(self,data,labels)->None:\n",
    "        self.x = torch.reshape(data,(-1,1,28,28))\n",
    "        self.y= F.one_hot(labels,10).float()\n",
    "        try:\n",
    "            self.len = len(labels)\n",
    "        except:    \n",
    "            self.len = labels.shape[0]\n",
    "\n",
    "    def __getitem__(self,index):\n",
    "        return self.x[index],self.y[index]\n",
    "\n",
    "    def __len__(self):\n",
    "        return self.len"
   ]
  },
  {
   "cell_type": "code",
   "execution_count": 3,
   "metadata": {},
   "outputs": [],
   "source": [
    "df = pd.read_csv('./data/train.csv')"
   ]
  },
  {
   "cell_type": "code",
   "execution_count": 4,
   "metadata": {},
   "outputs": [],
   "source": [
    "labels = torch.tensor(df['label'])\n"
   ]
  },
  {
   "cell_type": "code",
   "execution_count": 5,
   "metadata": {},
   "outputs": [
    {
     "name": "stdout",
     "output_type": "stream",
     "text": [
      "0th datapoint\n",
      "10000th datapoint\n",
      "20000th datapoint\n",
      "30000th datapoint\n",
      "40000th datapoint\n"
     ]
    }
   ],
   "source": [
    "data = torch.zeros(42000, 784)\n",
    "for i, _ in enumerate(labels):\n",
    "    if i % 10000 == 0:\n",
    "        print(f\"{i}th datapoint\")\n",
    "    data[i]= torch.tensor(df.iloc[i, 1:785])\n",
    "\n",
    "data = torch.reshape(data, (42000,28,28))\n",
    "\n"
   ]
  },
  {
   "cell_type": "code",
   "execution_count": 6,
   "metadata": {},
   "outputs": [],
   "source": [
    "train_data = data\n",
    "del df"
   ]
  },
  {
   "cell_type": "code",
   "execution_count": 7,
   "metadata": {},
   "outputs": [
    {
     "data": {
      "text/plain": [
       "<matplotlib.image.AxesImage at 0x1bd703322e0>"
      ]
     },
     "execution_count": 7,
     "metadata": {},
     "output_type": "execute_result"
    },
    {
     "data": {
      "image/png": "[encoded data removed]",
      "text/plain": [
       "<Figure size 432x288 with 1 Axes>"
      ]
     },
     "metadata": {
      "needs_background": "light"
     },
     "output_type": "display_data"
    }
   ],
   "source": [
    "sample_image=train_data[41000]\n",
    "plt.imshow(sample_image)\n"
   ]
  },
  {
   "cell_type": "code",
   "execution_count": 39,
   "metadata": {},
   "outputs": [],
   "source": [
    "for i,image in enumerate(train_data):\n",
    "    train_data[i] = image/torch.max(image)"
   ]
  },
  {
   "cell_type": "code",
   "execution_count": 68,
   "metadata": {},
   "outputs": [],
   "source": [
    "model = model_archit.model()\n",
    "loss_fn = nn.MSELoss()\n",
    "optimizer = torch.optim.SGD(model.parameters(),lr=0.01)\n",
    "loss_list=[]\n",
    "one_hot_labels = F.one_hot(labels,10).float()\n"
   ]
  },
  {
   "cell_type": "code",
   "execution_count": null,
   "metadata": {},
   "outputs": [
    {
     "name": "stdout",
     "output_type": "stream",
     "text": [
      "torch.Size([42000, 784])\n",
      "torch.Size([42000, 10])\n"
     ]
    }
   ],
   "source": [
    "print(train_data.shape)\n",
    "print(one_hot_labels.shape)"
   ]
  },
  {
   "cell_type": "code",
   "execution_count": 69,
   "metadata": {},
   "outputs": [
    {
     "name": "stdout",
     "output_type": "stream",
     "text": [
      "loss is 0.09112943708896637\n",
      "loss is 0.08953266590833664\n",
      "loss is 0.0909324362874031\n",
      "loss is 0.0894278809428215\n",
      "loss is 0.0907786563038826\n",
      "loss is 0.09070511162281036\n",
      "loss is 0.08843310922384262\n",
      "loss is 0.09057916700839996\n",
      "loss is 0.09052066504955292\n",
      "loss is 0.09049549698829651\n",
      "loss is 0.08981886506080627\n",
      "loss is 0.09039696305990219\n",
      "loss is 0.08977614343166351\n",
      "loss is 0.09034658968448639\n",
      "loss is 0.09031669795513153\n",
      "loss is 0.08882351219654083\n",
      "loss is 0.09025737643241882\n",
      "loss is 0.09024468809366226\n",
      "loss is 0.09023409336805344\n",
      "loss is 0.0901910662651062\n"
     ]
    }
   ],
   "source": [
    "loss_list=[]\n",
    "for epoch in range(10):\n",
    "    for i,(image, label) in enumerate(zip(train_data,one_hot_labels)):\n",
    "        loss_minilist=[]\n",
    "        image = torch.reshape(image,(1,1,28,28))\n",
    "        pred=model(image)\n",
    "        loss=loss_fn(pred,label)\n",
    "        loss.backward()\n",
    "        loss_minilist.append(loss.detach().numpy())\n",
    "        if i%64==0:\n",
    "            loss_list.append(np.mean(loss_minilist))\n",
    "            loss_minilist=[]\n",
    "            optimizer.step()\n",
    "            optimizer.zero_grad()\n",
    "        if i%5000==0:\n",
    "            print(f'loss is {loss_list[-1]}')\n",
    "    print(f'epoch {epoch} completed ----------------')\n",
    "        \n",
    "plt.plot(loss_list)\n"
   ]
  },
  {
   "cell_type": "code",
   "execution_count": 65,
   "metadata": {},
   "outputs": [
    {
     "data": {
      "text/plain": [
       "[<matplotlib.lines.Line2D at 0x1bd8ce04370>]"
      ]
     },
     "execution_count": 65,
     "metadata": {},
     "output_type": "execute_result"
    },
    {
     "data": {
      "image/png": "[encoded data removed]",
      "text/plain": [
       "<Figure size 432x288 with 1 Axes>"
      ]
     },
     "metadata": {
      "needs_background": "light"
     },
     "output_type": "display_data"
    }
   ],
   "source": []
  },
  {
   "cell_type": "code",
   "execution_count": 23,
   "metadata": {},
   "outputs": [],
   "source": []
  },
  {
   "cell_type": "code",
   "execution_count": 24,
   "metadata": {},
   "outputs": [
    {
     "data": {
      "text/plain": [
       "torch.Size([2, 2])"
      ]
     },
     "execution_count": 24,
     "metadata": {},
     "output_type": "execute_result"
    }
   ],
   "source": [
    "x.shape"
   ]
  },
  {
   "cell_type": "code",
   "execution_count": 25,
   "metadata": {},
   "outputs": [
    {
     "data": {
      "text/plain": [
       "tensor([[[1., 1.],\n",
       "         [1., 1.]]])"
      ]
     },
     "execution_count": 25,
     "metadata": {},
     "output_type": "execute_result"
    }
   ],
   "source": []
  },
  {
   "cell_type": "code",
   "execution_count": null,
   "metadata": {},
   "outputs": [
    {
     "data": {
      "text/plain": [
       "2"
      ]
     },
     "execution_count": 16,
     "metadata": {},
     "output_type": "execute_result"
    }
   ],
   "source": [
    "mode(image)\n",
    "model.output"
   ]
  },
  {
   "cell_type": "code",
   "execution_count": null,
   "metadata": {},
   "outputs": [],
   "source": [
    "new_list = [np.mean(loss_list[100*x:100*x+100]) for x in range(len(loss_list)//100) ]"
   ]
  },
  {
   "cell_type": "code",
   "execution_count": null,
   "metadata": {},
   "outputs": [
    {
     "data": {
      "text/plain": [
       "[<matplotlib.lines.Line2D at 0x2f3ec098d00>]"
      ]
     },
     "execution_count": 30,
     "metadata": {},
     "output_type": "execute_result"
    },
    {
     "data": {
      "image/png": "[encoded data removed]",
      "text/plain": [
       "<Figure size 432x288 with 1 Axes>"
      ]
     },
     "metadata": {
      "needs_background": "light"
     },
     "output_type": "display_data"
    }
   ],
   "source": [
    "plt.plot(new_list)"
   ]
  },
  {
   "cell_type": "code",
   "execution_count": null,
   "metadata": {},
   "outputs": [
    {
     "ename": "TypeError",
     "evalue": "eval() takes 1 positional argument but 2 were given",
     "output_type": "error",
     "traceback": [
      "\u001b[1;31m---------------------------------------------------------------------------\u001b[0m",
      "\u001b[1;31mTypeError\u001b[0m                                 Traceback (most recent call last)",
      "\u001b[1;32m~\\AppData\\Local\\Temp/ipykernel_10572/1078394518.py\u001b[0m in \u001b[0;36m<module>\u001b[1;34m\u001b[0m\n\u001b[1;32m----> 1\u001b[1;33m \u001b[0mmodel\u001b[0m\u001b[1;33m.\u001b[0m\u001b[0meval\u001b[0m\u001b[1;33m(\u001b[0m\u001b[0mimage\u001b[0m\u001b[1;33m)\u001b[0m\u001b[1;33m\u001b[0m\u001b[1;33m\u001b[0m\u001b[0m\n\u001b[0m",
      "\u001b[1;31mTypeError\u001b[0m: eval() takes 1 positional argument but 2 were given"
     ]
    }
   ],
   "source": [
    "model.eval(image)"
   ]
  }
 ],
 "metadata": {
  "interpreter": {
   "hash": "b96bbdae7895601aad9973fea0e5322488e676d8c810930d1d796782b931e0e7"
  },
  "kernelspec": {
   "display_name": "Python 3 (ipykernel)",
   "language": "python",
   "name": "python3"
  },
  "language_info": {
   "codemirror_mode": {
    "name": "ipython",
    "version": 3
   },
   "file_extension": ".py",
   "mimetype": "text/x-python",
   "name": "python",
   "nbconvert_exporter": "python",
   "pygments_lexer": "ipython3",
   "version": "3.9.9"
  },
  "orig_nbformat": 4
 },
 "nbformat": 4,
 "nbformat_minor": 2
}
