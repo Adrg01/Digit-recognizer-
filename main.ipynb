{
 "cells": [
  {
   "cell_type": "code",
   "execution_count": 1,
   "metadata": {},
   "outputs": [],
   "source": [
    "import pandas as pd\n",
    "import numpy as np\n",
    "import torch\n",
    "import torch.nn as nn\n",
    "import torch.nn.functional as F\n",
    "# import torchvision\n",
    "from torch.utils.data import Dataset,DataLoader\n",
    "import matplotlib.pyplot as plt\n",
    "from sklearn.model_selection import train_test_split as tts\n",
    " "
   ]
  },
  {
   "cell_type": "code",
   "execution_count": 2,
   "metadata": {},
   "outputs": [],
   "source": [
    "class dataset(Dataset):\n",
    "    def __init__(self,data,labels)->None:\n",
    "        self.x = torch.reshape(data,(-1,1,28,28))\n",
    "        self.y= F.one_hot(labels,10).float()\n",
    "        try:\n",
    "            self.len = len(labels)\n",
    "        except:    \n",
    "            self.len = labels.shape[0]\n",
    "\n",
    "    def __getitem__(self,index):\n",
    "        return self.x[index],self.y[index]\n",
    "\n",
    "    def __len__(self):\n",
    "        return self.len"
   ]
  },
  {
   "cell_type": "code",
   "execution_count": 3,
   "metadata": {},
   "outputs": [
    {
     "data": {
      "text/plain": [
       "(42000, 785)"
      ]
     },
     "execution_count": 3,
     "metadata": {},
     "output_type": "execute_result"
    }
   ],
   "source": [
    "df = pd.read_csv('./data/train.csv')\n",
    "df.shape"
   ]
  },
  {
   "cell_type": "code",
   "execution_count": 4,
   "metadata": {},
   "outputs": [],
   "source": [
    "labels = torch.tensor(df['label'])\n"
   ]
  },
  {
   "cell_type": "code",
   "execution_count": 5,
   "metadata": {},
   "outputs": [
    {
     "name": "stdout",
     "output_type": "stream",
     "text": [
      "0th datapoint\n",
      "10000th datapoint\n",
      "20000th datapoint\n",
      "30000th datapoint\n",
      "40000th datapoint\n"
     ]
    }
   ],
   "source": [
    "data = torch.zeros(42000, 784)\n",
    "for i, _ in enumerate(labels):\n",
    "    if i % 10000 == 0:\n",
    "        print(f\"{i}th datapoint\")\n",
    "    data[i]= torch.tensor(df.iloc[i, 1:785])\n",
    "\n",
    "data = torch.reshape(data, (42000,28,28))\n",
    "\n"
   ]
  },
  {
   "cell_type": "code",
   "execution_count": 6,
   "metadata": {},
   "outputs": [],
   "source": [
    "# train_data = data\n",
    "del df"
   ]
  },
  {
   "cell_type": "code",
   "execution_count": 7,
   "metadata": {},
   "outputs": [
    {
     "data": {
      "text/plain": [
       "<matplotlib.image.AxesImage at 0x1623a4dee50>"
      ]
     },
     "execution_count": 7,
     "metadata": {},
     "output_type": "execute_result"
    },
    {
     "data": {
      "image/png": "[encoded data removed]",
      "text/plain": [
       "<Figure size 432x288 with 1 Axes>"
      ]
     },
     "metadata": {
      "needs_background": "light"
     },
     "output_type": "display_data"
    }
   ],
   "source": [
    "sample_image=data[41000]\n",
    "plt.imshow(sample_image)\n"
   ]
  },
  {
   "cell_type": "code",
   "execution_count": 8,
   "metadata": {},
   "outputs": [],
   "source": [
    "for i,image in enumerate(data):\n",
    "    data[i] = image/torch.max(image)"
   ]
  },
  {
   "cell_type": "code",
   "execution_count": 9,
   "metadata": {},
   "outputs": [],
   "source": [
    "\n",
    "# one_hot_labels = F.one_hot(labels,10).float()\n"
   ]
  },
  {
   "cell_type": "code",
   "execution_count": 10,
   "metadata": {},
   "outputs": [],
   "source": [
    "train_x, val_x, train_label, val_label = tts(data, labels, train_size=0.8, shuffle=True)\n",
    "train_oh = F.one_hot(train_label,10).float()\n",
    "val_oh = F.one_hot(val_label,10).float()"
   ]
  },
  {
   "cell_type": "code",
   "execution_count": 11,
   "metadata": {},
   "outputs": [
    {
     "name": "stdout",
     "output_type": "stream",
     "text": [
      "train_x shape : torch.Size([33600, 28, 28])\n",
      "val_x shape : torch.Size([8400, 28, 28])\n",
      "train_oh shape : torch.Size([33600, 10])\n",
      "val_oh shape : torch.Size([8400, 10])\n",
      "data shape : torch.Size([42000, 28, 28])\n",
      "labels shape : torch.Size([42000])\n"
     ]
    }
   ],
   "source": [
    "print(f'train_x shape : {train_x.shape}')\n",
    "print(f'val_x shape : {val_x.shape}')\n",
    "print(f'train_oh shape : {train_oh.shape}')\n",
    "print(f'val_oh shape : {val_oh.shape}')\n",
    "print(f'data shape : {data.shape}')\n",
    "print(f'labels shape : {labels.shape}')"
   ]
  },
  {
   "cell_type": "code",
   "execution_count": 12,
   "metadata": {},
   "outputs": [
    {
     "name": "stdout",
     "output_type": "stream",
     "text": [
      "Using cpu device\n"
     ]
    },
    {
     "name": "stderr",
     "output_type": "stream",
     "text": [
      "C:\\Users\\as116\\AppData\\Local\\Packages\\PythonSoftwareFoundation.Python.3.9_qbz5n2kfra8p0\\LocalCache\\local-packages\\Python39\\site-packages\\torch\\nn\\modules\\container.py:141: UserWarning: Implicit dimension choice for softmax has been deprecated. Change the call to include dim=X as an argument.\n",
      "  input = module(input)\n",
      "C:\\Users\\as116\\AppData\\Local\\Packages\\PythonSoftwareFoundation.Python.3.9_qbz5n2kfra8p0\\LocalCache\\local-packages\\Python39\\site-packages\\torch\\nn\\modules\\loss.py:520: UserWarning: Using a target size (torch.Size([10])) that is different to the input size (torch.Size([1, 10])). This will likely lead to incorrect results due to broadcasting. Please ensure they have the same size.\n",
      "  return F.mse_loss(input, target, reduction=self.reduction)\n"
     ]
    },
    {
     "name": "stdout",
     "output_type": "stream",
     "text": [
      "epoch 0 completed ---------accuracy:100.0%\n",
      "epoch 1 completed ---------accuracy:100.0%\n",
      "epoch 2 completed ---------accuracy:100.0%\n",
      "epoch 3 completed ---------accuracy:100.0%\n",
      "epoch 4 completed ---------accuracy:100.0%\n",
      "epoch 5 completed ---------accuracy:100.0%\n",
      "epoch 6 completed ---------accuracy:100.0%\n",
      "epoch 7 completed ---------accuracy:100.0%\n",
      "epoch 8 completed ---------accuracy:100.0%\n",
      "epoch 9 completed ---------accuracy:100.0%\n"
     ]
    },
    {
     "data": {
      "text/plain": [
       "Text(0.5, 1.0, 'Accuracy : 0.9502410714285714')"
      ]
     },
     "execution_count": 12,
     "metadata": {},
     "output_type": "execute_result"
    },
    {
     "data": {
      "image/png": "[encoded data removed]",
      "text/plain": [
       "<Figure size 432x288 with 1 Axes>"
      ]
     },
     "metadata": {
      "needs_background": "light"
     },
     "output_type": "display_data"
    }
   ],
   "source": [
    "import model_archit\n",
    "\n",
    "model = model_archit.model()\n",
    "loss_fn = nn.MSELoss()\n",
    "batch_size=16\n",
    "loss_list=[]\n",
    "accuracy_list=[]\n",
    "alpha_0=0.1   #decaying learning rate parameters\n",
    "alpha = 7\n",
    "epochs=10\n",
    "for epoch in range(epochs):\n",
    "    lr = alpha_0/(1+alpha*epoch)\n",
    "    optimizer = torch.optim.SGD(model.parameters(),lr=lr)\n",
    "\n",
    "    for i,(image, label) in enumerate(zip(train_x,train_oh)):\n",
    "        loss_minilist=[]\n",
    "        accu=[]\n",
    "        image = torch.reshape(image,(1,1,28,28))\n",
    "        pred=model(image)\n",
    "        loss=loss_fn(pred,label)\n",
    "        accu.append(int(model.output.item() is np.argmax(label).item()))\n",
    "        loss.backward()\n",
    "        loss_minilist.append(loss.detach().numpy())\n",
    "        if i%batch_size==0:\n",
    "            loss_list.append(np.mean(loss_minilist))\n",
    "            loss_minilist=[]\n",
    "            optimizer.step()\n",
    "            optimizer.zero_grad()\n",
    "        # if i%5000==0:\n",
    "            # print(f'loss is {loss_list[-1]}')\n",
    "        accuracy = np.sum(accu)/len(accu)\n",
    "        accuracy_list.append(accuracy)\n",
    "    # print(f'epoch accuracy was {accuracy*100}%')\n",
    "    print(f'epoch {epoch} completed ---------accuracy:{round(accuracy*100,2)}%')\n",
    "        \n",
    "model_accuracy = np.sum(accuracy_list)/len(accuracy_list)\n",
    "# plt.plot(loss_list)\n",
    "plt.title(f'Accuracy : {model_accuracy}')\n"
   ]
  },
  {
   "cell_type": "code",
   "execution_count": 13,
   "metadata": {},
   "outputs": [
    {
     "data": {
      "text/plain": [
       "[<matplotlib.lines.Line2D at 0x162281050a0>]"
      ]
     },
     "execution_count": 13,
     "metadata": {},
     "output_type": "execute_result"
    },
    {
     "data": {
      "image/png": "[encoded data removed]",
      "text/plain": [
       "<Figure size 432x288 with 1 Axes>"
      ]
     },
     "metadata": {
      "needs_background": "light"
     },
     "output_type": "display_data"
    }
   ],
   "source": [
    "new_list = [np.mean(loss_list[100*x:100*x+100]) for x in range(len(loss_list)//100) ]\n",
    "plt.plot(new_list)"
   ]
  },
  {
   "cell_type": "code",
   "execution_count": 26,
   "metadata": {},
   "outputs": [
    {
     "name": "stdout",
     "output_type": "stream",
     "text": [
      "True\n"
     ]
    },
    {
     "data": {
      "image/png": "[encoded data removed]",
      "text/plain": [
       "<Figure size 432x288 with 1 Axes>"
      ]
     },
     "metadata": {
      "needs_background": "light"
     },
     "output_type": "display_data"
    }
   ],
   "source": [
    "import random\n",
    "idx=random.randint(0,val_x.shape[0])\n",
    "image = torch.reshape(val_x[idx],(1,1,28,28))\n",
    "pred = model(image)\n",
    "\n",
    "plt.imshow(val_x[idx])\n",
    "plt.title(model.output)\n",
    "plt.axis('off')\n",
    "print(model.output.item() is val_label[idx].item())"
   ]
  },
  {
   "cell_type": "code",
   "execution_count": 15,
   "metadata": {},
   "outputs": [
    {
     "data": {
      "text/plain": [
       "3"
      ]
     },
     "execution_count": 15,
     "metadata": {},
     "output_type": "execute_result"
    }
   ],
   "source": [
    "np.argmax(train_oh[0]).item()"
   ]
  },
  {
   "cell_type": "code",
   "execution_count": 16,
   "metadata": {},
   "outputs": [
    {
     "name": "stderr",
     "output_type": "stream",
     "text": [
      "<>:1: SyntaxWarning: \"is\" with a literal. Did you mean \"==\"?\n",
      "<>:1: SyntaxWarning: \"is\" with a literal. Did you mean \"==\"?\n",
      "C:\\Users\\as116\\AppData\\Local\\Temp/ipykernel_10488/3805557495.py:1: SyntaxWarning: \"is\" with a literal. Did you mean \"==\"?\n",
      "  val_label[idx].item()  is 0\n"
     ]
    },
    {
     "data": {
      "text/plain": [
       "False"
      ]
     },
     "execution_count": 16,
     "metadata": {},
     "output_type": "execute_result"
    }
   ],
   "source": [
    "val_label[idx].item()  is 0"
   ]
  },
  {
   "cell_type": "code",
   "execution_count": 17,
   "metadata": {},
   "outputs": [
    {
     "name": "stdout",
     "output_type": "stream",
     "text": [
      "df shape:  (28000, 784)\n"
     ]
    }
   ],
   "source": [
    "df = pd.read_csv('./data/test.csv')\n",
    "print('df shape: ',df.shape)\n",
    "data = torch.zeros(df.shape)\n",
    "data_len = data.shape[0]\n",
    "num_points = data.shape[1]\n"
   ]
  },
  {
   "cell_type": "code",
   "execution_count": 18,
   "metadata": {},
   "outputs": [
    {
     "name": "stdout",
     "output_type": "stream",
     "text": [
      "0th datapoint\n",
      "10000th datapoint\n",
      "20000th datapoint\n"
     ]
    }
   ],
   "source": [
    "for i in range(data_len):\n",
    "    if i % 10000 == 0:\n",
    "        print(f\"{i}th datapoint\")\n",
    "    data[i,]= torch.tensor(df.iloc[i,:])\n"
   ]
  },
  {
   "cell_type": "code",
   "execution_count": 19,
   "metadata": {},
   "outputs": [
    {
     "data": {
      "text/plain": [
       "torch.Size([28000, 784])"
      ]
     },
     "execution_count": 19,
     "metadata": {},
     "output_type": "execute_result"
    }
   ],
   "source": [
    "data.shape"
   ]
  },
  {
   "cell_type": "code",
   "execution_count": 20,
   "metadata": {},
   "outputs": [],
   "source": [
    "data = torch.reshape(data, (data_len,1,1,28,28))\n",
    "sub = {'ImageId':[],'Label':[]}\n",
    "\n"
   ]
  },
  {
   "cell_type": "code",
   "execution_count": 21,
   "metadata": {},
   "outputs": [],
   "source": [
    "for i in range(data_len):\n",
    "    image=data[i]\n",
    "    model(image)\n",
    "    sub['ImageId'].append(i+1)\n",
    "    sub['Label'].append(model.output)"
   ]
  },
  {
   "cell_type": "code",
   "execution_count": 22,
   "metadata": {},
   "outputs": [
    {
     "data": {
      "text/html": [
       "<div>\n",
       "<style scoped>\n",
       "    .dataframe tbody tr th:only-of-type {\n",
       "        vertical-align: middle;\n",
       "    }\n",
       "\n",
       "    .dataframe tbody tr th {\n",
       "        vertical-align: top;\n",
       "    }\n",
       "\n",
       "    .dataframe thead th {\n",
       "        text-align: right;\n",
       "    }\n",
       "</style>\n",
       "<table border=\"1\" class=\"dataframe\">\n",
       "  <thead>\n",
       "    <tr style=\"text-align: right;\">\n",
       "      <th></th>\n",
       "      <th>ImageId</th>\n",
       "      <th>Label</th>\n",
       "    </tr>\n",
       "  </thead>\n",
       "  <tbody>\n",
       "    <tr>\n",
       "      <th>0</th>\n",
       "      <td>1</td>\n",
       "      <td>2</td>\n",
       "    </tr>\n",
       "    <tr>\n",
       "      <th>1</th>\n",
       "      <td>2</td>\n",
       "      <td>0</td>\n",
       "    </tr>\n",
       "    <tr>\n",
       "      <th>2</th>\n",
       "      <td>3</td>\n",
       "      <td>9</td>\n",
       "    </tr>\n",
       "    <tr>\n",
       "      <th>3</th>\n",
       "      <td>4</td>\n",
       "      <td>9</td>\n",
       "    </tr>\n",
       "    <tr>\n",
       "      <th>4</th>\n",
       "      <td>5</td>\n",
       "      <td>3</td>\n",
       "    </tr>\n",
       "  </tbody>\n",
       "</table>\n",
       "</div>"
      ],
      "text/plain": [
       "   ImageId  Label\n",
       "0        1      2\n",
       "1        2      0\n",
       "2        3      9\n",
       "3        4      9\n",
       "4        5      3"
      ]
     },
     "execution_count": 22,
     "metadata": {},
     "output_type": "execute_result"
    }
   ],
   "source": [
    "sub_df = pd.DataFrame(sub)\n",
    "sub_df.to_csv('submission.csv',index=False)\n",
    "sub_df.head()"
   ]
  },
  {
   "cell_type": "code",
   "execution_count": 23,
   "metadata": {},
   "outputs": [
    {
     "data": {
      "text/plain": [
       "(28000, 2)"
      ]
     },
     "execution_count": 23,
     "metadata": {},
     "output_type": "execute_result"
    }
   ],
   "source": [
    "sub_df.shape"
   ]
  }
 ],
 "metadata": {
  "interpreter": {
   "hash": "b96bbdae7895601aad9973fea0e5322488e676d8c810930d1d796782b931e0e7"
  },
  "kernelspec": {
   "display_name": "Python 3 (ipykernel)",
   "language": "python",
   "name": "python3"
  },
  "language_info": {
   "codemirror_mode": {
    "name": "ipython",
    "version": 3
   },
   "file_extension": ".py",
   "mimetype": "text/x-python",
   "name": "python",
   "nbconvert_exporter": "python",
   "pygments_lexer": "ipython3",
   "version": "3.9.9"
  },
  "orig_nbformat": 4
 },
 "nbformat": 4,
 "nbformat_minor": 2
}
